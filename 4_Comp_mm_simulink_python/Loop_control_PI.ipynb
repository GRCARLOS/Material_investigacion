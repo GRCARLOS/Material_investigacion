{
 "cells": [
  {
   "cell_type": "markdown",
   "id": "5bc4d6e6-cd02-427b-9cc5-55cf081ac765",
   "metadata": {},
   "source": [
    "# **Simulación sistema Controlador-Motor**"
   ]
  },
  {
   "cell_type": "code",
   "execution_count": 1,
   "id": "a5494bad-b52c-46a8-a4c7-f036f1047a35",
   "metadata": {},
   "outputs": [],
   "source": [
    "# Import libraries\n",
    "import numpy as np\n",
    "import matplotlib.pyplot as plt\n",
    "import pandas as pd"
   ]
  },
  {
   "cell_type": "markdown",
   "id": "6c10b322-cd11-4804-83e7-9886d6375f4e",
   "metadata": {},
   "source": [
    "## **Definiciones y condiciones iniciales**"
   ]
  },
  {
   "cell_type": "markdown",
   "id": "68ee1227-3f55-49c1-ba7a-68075d8221a8",
   "metadata": {},
   "source": [
    "### Definimos el tiempo de simulación"
   ]
  },
  {
   "cell_type": "code",
   "execution_count": 2,
   "id": "a5139d03-b1b3-4d88-ab35-95c18bd54305",
   "metadata": {},
   "outputs": [],
   "source": [
    "t_simulation=5   # Define here the simulation time\n",
    "Step_size=0.001     # Define here the time step\n",
    "dt=h=Step_size      # Asing identifiers to the time step\n",
    "t_sim=np.arange(0, t_simulation, dt)    #Create a vector simulation time"
   ]
  },
  {
   "cell_type": "markdown",
   "id": "c4bd4887-05e9-49b0-b7ee-aadaa75ae769",
   "metadata": {},
   "source": [
    "###  Definimos condiciones iniciales para el vector solución del sistema"
   ]
  },
  {
   "cell_type": "code",
   "execution_count": 3,
   "id": "ad35ed63-9dc4-4adf-a765-3385fc7f217c",
   "metadata": {},
   "outputs": [],
   "source": [
    "#Initial conditions for the system equations\n",
    "In_current= 0          # Define Initial current \n",
    "In_position= 0         # Define Initial angular position \n",
    "In_velocity= 0         # Define Initial angular velocity\n",
    "x0=np.array([ In_current, In_position, In_velocity ])  "
   ]
  },
  {
   "cell_type": "markdown",
   "id": "33fede44-1d66-426c-b42d-0ba65ca80d92",
   "metadata": {},
   "source": [
    "### Definimos entradas externas "
   ]
  },
  {
   "cell_type": "code",
   "execution_count": 4,
   "id": "9ed1fad2-547b-423d-b7d4-3ab90962c20d",
   "metadata": {},
   "outputs": [],
   "source": [
    "#External torque\n",
    "Tl=np.zeros_like(t_sim)"
   ]
  },
  {
   "cell_type": "markdown",
   "id": "ac051d8c-8982-4154-971e-e5dbe0b39006",
   "metadata": {},
   "source": [
    "### Creamos el vector solución y le asignamos las condiciones iniciales."
   ]
  },
  {
   "cell_type": "code",
   "execution_count": 5,
   "id": "72a96821-1d35-45b8-a465-1fb041392de6",
   "metadata": {},
   "outputs": [],
   "source": [
    "x_sol=np.zeros((len(t_sim), len(x0)))\n",
    "x_sol[0]=x0"
   ]
  },
  {
   "cell_type": "markdown",
   "id": "6fdd7c11-16e9-4b15-82fd-a6e1128bd403",
   "metadata": {},
   "source": [
    "### Definimos una función para el modelo del sistema"
   ]
  },
  {
   "cell_type": "code",
   "execution_count": 6,
   "id": "3870ead0-ced0-40c5-993e-a2519bb95c15",
   "metadata": {},
   "outputs": [],
   "source": [
    "# Define the model equations or system dynamics\n",
    "def model_motor(x, u, Tl):\n",
    "                       # u -> control input (voltaje)\n",
    "                       #Tl -> external torque (Definir unidades ?)\n",
    "    R=0.343            # Impedance\n",
    "    L = 0.00018        # Inductance\n",
    "    kb=0.0167          # contraelectromotriz constant\n",
    "    Jm=2.42*10**-6     # Motor inertia\n",
    "    kt=0.0167          # Torque constant\n",
    "    B=5.589458*10**-6\n",
    "\n",
    "    current=x[0]       # Current\n",
    "    theta=x[1]         # Angular postion\n",
    "    theta_dot=x[2]     # Angular velocity\n",
    "\n",
    "    current_dot=(1/L)*u -(R/L)*current -(kb/L)*theta_dot       # Derivative of current\n",
    "    theta_ddot= (kt/Jm)*current -(B/Jm)*theta_dot - (1/Jm)*Tl  # Angular aceleration\n",
    "    return np.array([ current_dot, theta_dot, theta_ddot])  # return [derivative of current, angular velocity, angular acceleration]\n"
   ]
  },
  {
   "cell_type": "markdown",
   "id": "6cdadcf2-97e3-4f2d-b89e-005b127abbe5",
   "metadata": {},
   "source": [
    "### Definimos la referencia"
   ]
  },
  {
   "cell_type": "code",
   "execution_count": 7,
   "id": "f03f61c3-1ccf-4257-8d96-c1e232bc4a13",
   "metadata": {},
   "outputs": [],
   "source": [
    "Corriente_referencia=0.2\n",
    "I_reference= Corriente_referencia*np.ones(len(t_sim))\n",
    "#print(I_reference)"
   ]
  },
  {
   "cell_type": "markdown",
   "id": "22c617fb-2ec8-400e-a961-9fdd217e38dc",
   "metadata": {},
   "source": [
    "# Definimos ganancias del controlador PI"
   ]
  },
  {
   "cell_type": "code",
   "execution_count": 8,
   "id": "ad59d6a0-8e76-4a71-a71b-de24b5a0d339",
   "metadata": {},
   "outputs": [],
   "source": [
    "#Define the gain values\n",
    "Kp=0.0\n",
    "Ki=103.632275098676"
   ]
  },
  {
   "cell_type": "markdown",
   "id": "6d72c46b-c325-4829-af84-b517f827e982",
   "metadata": {},
   "source": [
    "### Definimos la condición inicial para la integral del error del controlador PI"
   ]
  },
  {
   "cell_type": "code",
   "execution_count": 9,
   "id": "da4e93e1-3ed6-4d1c-a68b-985ade1aa253",
   "metadata": {},
   "outputs": [],
   "source": [
    "E_integral_initial=0     #Integral initial condition"
   ]
  },
  {
   "cell_type": "markdown",
   "id": "10c50ec8-fe06-4154-b4cc-4dc9baa1ce55",
   "metadata": {},
   "source": [
    "### Creamos el vector solución de la integral y le asignamos la condición inicial"
   ]
  },
  {
   "cell_type": "code",
   "execution_count": 10,
   "id": "f9a74de6-e499-4d0e-8bc6-23f488d570e0",
   "metadata": {},
   "outputs": [],
   "source": [
    "#E_integral=np.zeros((len(t_sim),1)) # Create the solution vector for the erro integral\n",
    "\n",
    "#E_integral[0]= E_integral_initial  # Assign the initial condition to the solution vector of the integral.\n",
    "E_integral= E_integral_initial  # Assign the initial condition to the solution vector of the integral."
   ]
  },
  {
   "cell_type": "markdown",
   "id": "046dba90-2ecc-4572-bdad-051bc2460d90",
   "metadata": {},
   "source": [
    "### Creamos una función para el controlador"
   ]
  },
  {
   "cell_type": "code",
   "execution_count": 11,
   "id": "01ed94dc-b3b1-4249-aa91-661e00d7cee9",
   "metadata": {},
   "outputs": [],
   "source": [
    "def PI_control(Kp,Ki,error,E_integral):\n",
    "    Pout=Kp*error\n",
    "    Iout=Ki*E_integral\n",
    "    Salida_PI= Pout+Iout\n",
    "    return Salida_PI"
   ]
  },
  {
   "cell_type": "markdown",
   "id": "e0259b83-69df-4421-b8ce-d8e8e543602d",
   "metadata": {},
   "source": [
    "### Creamos una función para el solver Runge Kutta Dormand Prince"
   ]
  },
  {
   "cell_type": "code",
   "execution_count": 12,
   "id": "1934f83d-12c7-441e-9a3d-0f560d15bad6",
   "metadata": {},
   "outputs": [],
   "source": [
    "# #inputs RKDP_solver(h, x_sol[i-1], u[i-1], TL[i-1])\n",
    "def RKDP_solver(h, x, u, Tl):\n",
    "    k1=h*model_motor(x, u, Tl)\n",
    "    k2=h*model_motor(x + (k1/5), u ,Tl )\n",
    "    k3=h*model_motor(x + (3/40)*k1 + (9/40)*k2, u ,Tl )\n",
    "    k4=h*model_motor(x + (44/45)*k1 - (56/15)*k2 + (32/9)*k3, u ,Tl )\n",
    "    k5=h*model_motor(x + (19372/6561)*k1 - (25360/2187)*k2 +(64448/6561)*k3 - (212/729)*k4, u ,Tl )\n",
    "    k6=h*model_motor(x + (9017/3168)*k1 -(355/33)*k2 +(46732/5247)*k3 + (49/176)*k4 - (5103/18656)*k5, u ,Tl )\n",
    "    k7=h*model_motor(x + (35/384)*k1 +(500/1113)*k3 +(125/192)*k4 -(2187/6784)*k5 + (11/84)*k6, u ,Tl )\n",
    "    return k1, k2, k3,  k4, k5, k6, k7\n",
    "    \n",
    "# Assign letter to fractional quantity\n",
    "a=35/384\n",
    "b=500/1113\n",
    "c=125/192\n",
    "d=2187/6784\n",
    "e=11/84"
   ]
  },
  {
   "cell_type": "markdown",
   "id": "e2c39a76-3979-426b-bf7f-1bf75b649cce",
   "metadata": {},
   "source": [
    "## **Bucle principal**"
   ]
  },
  {
   "cell_type": "code",
   "execution_count": 13,
   "id": "edcc9b2a-7652-4e29-bc36-1b685036407d",
   "metadata": {},
   "outputs": [],
   "source": [
    "### Create  for loop for iterating over the simulation time\n",
    "for i in range(1, len(t_sim)):\n",
    "    #I_error= I_reference      -   I_calculated \n",
    "    I_error=  I_reference[i-1] - x_sol[i-1,0]                      # Error \n",
    "    E_integral=E_integral+ (I_error*dt)\n",
    " \n",
    "    u=PI_control(Kp,Ki,I_error, E_integral)                        # Control signal\n",
    "    \n",
    "    k1, k2, k3,k4,k5,k6,k7= RKDP_solver(h, x_sol[i-1], u, Tl[i-1]) # Get the RK DP termns using the RKDP_solver function\n",
    "    \n",
    "    x_sol[i]=x_sol[i-1]+ a*k1 + b*k3 + c*k4 - d*k5 + e*k6          # Calculating the values for the vector solution a this time step.\n"
   ]
  },
  {
   "cell_type": "markdown",
   "id": "d7d7f76e-baee-4525-85d7-1aa36cd605f1",
   "metadata": {},
   "source": [
    "## Graficamos la respuesta obtenida para  la señal que es objeto de control, en este caso corriente."
   ]
  },
  {
   "cell_type": "code",
   "execution_count": 14,
   "id": "ccc1eab0-6cf3-4a51-abf9-e7c5f11a5e37",
   "metadata": {},
   "outputs": [
    {
     "data": {
      "image/png": "[encoded data removed]",
      "text/plain": [
       "<Figure size 500x400 with 1 Axes>"
      ]
     },
     "metadata": {},
     "output_type": "display_data"
    }
   ],
   "source": [
    "plt.figure(figsize=(5,4))\n",
    "plt.plot(t_sim, x_sol[:, 0], label='Current')  # Plot current\n",
    "#plt.plot(t_sim2, x_sim2[:, 1], label='Theta')  # Plot angular position\n",
    "#plt.plot(t_sim2, x_sim2[:, 2], label='Theta_dot')  # Plot angular velocity\n",
    "plt.xlabel('Time')\n",
    "#plt.ylabel('Current/ Angle / Angular velocity')\n",
    "plt.ylabel('Current (A) ')\n",
    "plt.legend()\n",
    "plt.grid(True)\n",
    "plt.show()"
   ]
  },
  {
   "cell_type": "code",
   "execution_count": 16,
   "id": "9c9e512c-345c-4dbb-b54d-65b3aa929823",
   "metadata": {},
   "outputs": [
    {
     "name": "stdout",
     "output_type": "stream",
     "text": [
      "      Tiempo  Corriente   Velocidad\n",
      "0      0.000   0.000000    0.000000\n",
      "1      0.001   0.045832    0.222885\n",
      "2      0.002   0.075783    0.702756\n",
      "3      0.003   0.088412    1.315980\n",
      "4      0.004   0.092157    1.976746\n",
      "...      ...        ...         ...\n",
      "4995   4.995   0.199600  595.345815\n",
      "4996   4.996   0.199600  595.348289\n",
      "4997   4.997   0.199600  595.350761\n",
      "4998   4.998   0.199601  595.353230\n",
      "4999   4.999   0.199601  595.355696\n",
      "\n",
      "[5000 rows x 3 columns]\n"
     ]
    }
   ],
   "source": [
    "## Saving the data in a csv file.\n",
    "df=pd.DataFrame()\n",
    "tiempo=t_sim\n",
    "corriente= x_sol[:,0]\n",
    "velocidad= x_sol[:, 2]\n",
    "## columns name\n",
    "df['Tiempo']=tiempo\n",
    "df['Corriente']= corriente\n",
    "df['Velocidad']= velocidad\n",
    "print(df)\n",
    "\n",
    "df.to_csv('DATO_python_150823.csv', sep=',', header=True, index=False)\n"
   ]
  },
  {
   "cell_type": "markdown",
   "id": "c92e0be6-df14-4bed-b517-d11578377478",
   "metadata": {},
   "source": [
    "\n",
    "# Graficar imagenes en subplot\n",
    "# Programar visualización grafica en tiempo real\n",
    "# Probar calculo de controlador a partir de la optimización\n",
    "# Probar loop de control en velocidad"
   ]
  },
  {
   "cell_type": "code",
   "execution_count": 33,
   "id": "752c6aaa-7eef-4864-acb2-f1c71babd202",
   "metadata": {},
   "outputs": [
    {
     "data": {
      "image/png": "[encoded data removed]",
      "text/plain": [
       "<Figure size 640x480 with 3 Axes>"
      ]
     },
     "metadata": {},
     "output_type": "display_data"
    }
   ],
   "source": [
    "# Plot the 3 variables in subplots\n",
    "fig, (a1, a2, a3) = plt.subplots(3,sharex=True)\n",
    "fig.suptitle('Estimated responses for the system')\n",
    "a1.plot(t_sim, x_sol[:, 0],'tab:orange')\n",
    "a1.set_title(\"Estimated Current\")\n",
    "a1.set_ylabel('A')\n",
    "a2.plot(t_sim, x_sol[:, 1], 'tab:green')\n",
    "a2.set_title(\"Estimated Angular position\")\n",
    "a2.set_ylabel('rad')\n",
    "a3.plot(t_sim, x_sol[:, 2], 'tab:blue')\n",
    "a3.set_title(\"Estimated angular velocity\")\n",
    "a3.set_ylabel('rad/s')\n",
    "\n",
    "fig.tight_layout()"
   ]
  },
  {
   "cell_type": "markdown",
   "id": "4a7b5392-a453-4219-ac43-560debcafdb1",
   "metadata": {},
   "source": [
    "# Se aplicaron valores sintonizados en Simulink para el controlador Pi, kp=0 y Ki= 103.632275098676, dando el mismo resultado en los plot de ambos programas.\n"
   ]
  },
  {
   "cell_type": "code",
   "execution_count": 21,
   "id": "b4565ef9-be43-4c60-a86c-3e3beb6c900d",
   "metadata": {},
   "outputs": [],
   "source": [
    "numero=\n",
    "if(numero % 100 == 0):\n",
    "    print(numero)"
   ]
  }
 ],
 "metadata": {
  "kernelspec": {
   "display_name": "Python 3 (ipykernel)",
   "language": "python",
   "name": "python3"
  },
  "language_info": {
   "codemirror_mode": {
    "name": "ipython",
    "version": 3
   },
   "file_extension": ".py",
   "mimetype": "text/x-python",
   "name": "python",
   "nbconvert_exporter": "python",
   "pygments_lexer": "ipython3",
   "version": "3.9.1"
  }
 },
 "nbformat": 4,
 "nbformat_minor": 5
}
